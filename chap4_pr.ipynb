{
  "nbformat": 4,
  "nbformat_minor": 0,
  "metadata": {
    "colab": {
      "name": "chap4_pr",
      "provenance": [],
      "authorship_tag": "ABX9TyMpElQ99Ju87Q8b4/IcdfSy",
      "include_colab_link": true
    },
    "kernelspec": {
      "name": "python3",
      "display_name": "Python 3"
    },
    "language_info": {
      "name": "python"
    }
  },
  "cells": [
    {
      "cell_type": "markdown",
      "metadata": {
        "id": "view-in-github",
        "colab_type": "text"
      },
      "source": [
        "<a href=\"https://colab.research.google.com/github/littlewood1030/Math_Eu/blob/main/chap4_pr.ipynb\" target=\"_parent\"><img src=\"https://colab.research.google.com/assets/colab-badge.svg\" alt=\"Open In Colab\"/></a>"
      ]
    },
    {
      "cell_type": "code",
      "execution_count": 1,
      "metadata": {
        "id": "cGmwTMDVPInZ"
      },
      "outputs": [],
      "source": [
        "import numpy as np\n",
        "import scipy as sp\n",
        "import matplotlib.pyplot as plt\n",
        "import pandas as pd\n",
        "from pandas import Series,DataFrame\n",
        "\n",
        "import matplotlib as mpl\n",
        "import seaborn as sns\n",
        "%matplotlib inline\n",
        "\n",
        "%precision 3\n",
        "np.random.seed(0)"
      ]
    },
    {
      "cell_type": "code",
      "source": [
        "#練習問題4-1\n",
        "coin_data = ([0,1])\n",
        "coin_try = 1000\n",
        "coin_rolls = np.random.choice(coin_data,coin_try)\n",
        "\n",
        "for i in range(0,2):\n",
        "    p = len(coin_rolls[coin_rolls==i])/coin_try\n",
        "    print(i,'が出る確率',p)"
      ],
      "metadata": {
        "colab": {
          "base_uri": "https://localhost:8080/"
        },
        "id": "7fQIb5ktPZdC",
        "outputId": "df90775c-2896-4dce-8d96-b1ef9375a019"
      },
      "execution_count": 2,
      "outputs": [
        {
          "output_type": "stream",
          "name": "stdout",
          "text": [
            "0 が出る確率 0.496\n",
            "1 が出る確率 0.504\n"
          ]
        }
      ]
    },
    {
      "cell_type": "code",
      "source": [
        "#練習問題4-2\n",
        "zentai = 1000\n",
        "atari = 100\n",
        "#A君があたりを引く確率pa\n",
        "pa = atari/zentai\n",
        "#続けてB君があたりを引く確率\n",
        "pb = (atari-1)/(zentai-1)\n",
        "('A君B君が当たる確率は',pa,pb)"
      ],
      "metadata": {
        "colab": {
          "base_uri": "https://localhost:8080/"
        },
        "id": "dWXU3cxUQpwD",
        "outputId": "8c5f0ade-a8d4-4288-f8d1-7eaeac747b31"
      },
      "execution_count": 3,
      "outputs": [
        {
          "output_type": "execute_result",
          "data": {
            "text/plain": [
              "('A君B君が当たる確率は', 0.100, 0.099)"
            ]
          },
          "metadata": {},
          "execution_count": 3
        }
      ]
    },
    {
      "cell_type": "code",
      "source": [
        "#練習問題4－4\n",
        "#分散を標準偏差にする\n",
        "std = np.sqrt(1)\n",
        "x = np.random.normal(0,std,10000)\n",
        "plt.hist(x)\n",
        "plt.grid(True)\n"
      ],
      "metadata": {
        "colab": {
          "base_uri": "https://localhost:8080/",
          "height": 265
        },
        "id": "0wL5i4K42KxX",
        "outputId": "150f796f-0cad-48ac-93ac-3d29efc7673f"
      },
      "execution_count": 4,
      "outputs": [
        {
          "output_type": "display_data",
          "data": {
            "text/plain": [
              "<Figure size 432x288 with 1 Axes>"
            ],
            "image/png": "[encoded data removed]"
          },
          "metadata": {
            "needs_background": "light"
          }
        }
      ]
    },
    {
      "cell_type": "code",
      "source": [
        "#練習問題4－5\n",
        "#分散を標準偏差にする\n",
        "std = np.sqrt(1)\n",
        "x = np.random.lognormal(0,std,10000)\n",
        "plt.hist(x)\n",
        "plt.grid(True)\n"
      ],
      "metadata": {
        "colab": {
          "base_uri": "https://localhost:8080/",
          "height": 265
        },
        "id": "VJOq3eVk3puX",
        "outputId": "a57b4aae-2332-41f5-efa8-ec88e896b38d"
      },
      "execution_count": 5,
      "outputs": [
        {
          "output_type": "display_data",
          "data": {
            "text/plain": [
              "<Figure size 432x288 with 1 Axes>"
            ],
            "image/png": "[encoded data removed]"
          },
          "metadata": {
            "needs_background": "light"
          }
        }
      ]
    },
    {
      "cell_type": "code",
      "source": [
        "import requests\n",
        "import zipfile\n",
        "from io import StringIO\n",
        "import io\n",
        "\n",
        "url = 'https://archive.ics.uci.edu/ml/machine-learning-databases/00356/student.zip'\n",
        "r = requests.get(url,stream=True)\n",
        "z = zipfile.ZipFile(io.BytesIO(r.content))\n",
        "z.extractall()"
      ],
      "metadata": {
        "id": "b80yYRxQ4kc2"
      },
      "execution_count": 6,
      "outputs": []
    },
    {
      "cell_type": "code",
      "source": [
        "ls"
      ],
      "metadata": {
        "colab": {
          "base_uri": "https://localhost:8080/"
        },
        "id": "LgfePJDL4mF-",
        "outputId": "8098d97e-7406-4312-e669-d10eb304ad31"
      },
      "execution_count": 7,
      "outputs": [
        {
          "output_type": "stream",
          "name": "stdout",
          "text": [
            "\u001b[0m\u001b[01;34msample_data\u001b[0m/  student-mat.csv  student-merge.R  student-por.csv  student.txt\n"
          ]
        }
      ]
    },
    {
      "cell_type": "code",
      "source": [
        "student_data_math = pd.read_csv('student-mat.csv',sep = ';')"
      ],
      "metadata": {
        "id": "Vfio60hW4nqO"
      },
      "execution_count": 8,
      "outputs": []
    },
    {
      "cell_type": "code",
      "source": [
        "student_data_por = pd.read_csv('student-por.csv',sep = ';')"
      ],
      "metadata": {
        "id": "BSx1e_egQ1Wx"
      },
      "execution_count": 9,
      "outputs": []
    },
    {
      "cell_type": "code",
      "source": [
        "#カーネル密度推定\n",
        "student_data_math.G1.plot(kind='kde',style='k--')\n",
        "student_data_math.G1.hist(density = True)\n",
        "plt.grid(True)"
      ],
      "metadata": {
        "colab": {
          "base_uri": "https://localhost:8080/",
          "height": 265
        },
        "id": "Z3EGEocT4_S1",
        "outputId": "5e0148af-7a0b-4b36-9bb2-beee52dc2c1a"
      },
      "execution_count": 10,
      "outputs": [
        {
          "output_type": "display_data",
          "data": {
            "text/plain": [
              "<Figure size 432x288 with 1 Axes>"
            ],
            "image/png": "[encoded data removed]"
          },
          "metadata": {
            "needs_background": "light"
          }
        }
      ]
    },
    {
      "cell_type": "code",
      "source": [
        "#練習問題4－7\n",
        "for df, c in zip([5,25,50],'bgr'):\n",
        "    np.random.chisquare(df,1000)\n",
        "    plt.hist(x,20,color=c)\n",
        "    plt.grid(True)"
      ],
      "metadata": {
        "colab": {
          "base_uri": "https://localhost:8080/",
          "height": 265
        },
        "id": "jYbMtEDqHoMa",
        "outputId": "5cd64439-d2a9-43eb-aa35-737fb089b1d4"
      },
      "execution_count": 11,
      "outputs": [
        {
          "output_type": "display_data",
          "data": {
            "text/plain": [
              "<Figure size 432x288 with 1 Axes>"
            ],
            "image/png": "[encoded data removed]"
          },
          "metadata": {
            "needs_background": "light"
          }
        }
      ]
    },
    {
      "cell_type": "code",
      "source": [
        "#練習問題4－8\n",
        "x = np.random.standard_t(100,1000)\n",
        "plt.hist(x)\n",
        "plt.grid(True)"
      ],
      "metadata": {
        "colab": {
          "base_uri": "https://localhost:8080/",
          "height": 265
        },
        "id": "V77PiIjhIC8U",
        "outputId": "627cec53-d058-4cdc-fdeb-2b3b46a1216e"
      },
      "execution_count": 12,
      "outputs": [
        {
          "output_type": "display_data",
          "data": {
            "text/plain": [
              "<Figure size 432x288 with 1 Axes>"
            ],
            "image/png": "[encoded data removed]"
          },
          "metadata": {
            "needs_background": "light"
          }
        }
      ]
    },
    {
      "cell_type": "code",
      "source": [
        "#練習問題4－9\n",
        "for df,c in zip([(10,30),(20,25)],'bgr'):\n",
        "  x = np.random.f(df[0],df[1],1000)\n",
        "  plt.hist(x,100,color=c)\n",
        "  plt.grid(True)"
      ],
      "metadata": {
        "colab": {
          "base_uri": "https://localhost:8080/",
          "height": 265
        },
        "id": "wyexSvgLIjBl",
        "outputId": "33a0d625-0164-41c9-da29-05278d43cfb5"
      },
      "execution_count": 13,
      "outputs": [
        {
          "output_type": "display_data",
          "data": {
            "text/plain": [
              "<Figure size 432x288 with 1 Axes>"
            ],
            "image/png": "[encoded data removed]"
          },
          "metadata": {
            "needs_background": "light"
          }
        }
      ]
    },
    {
      "cell_type": "code",
      "source": [
        "#練習問題4-13\n",
        "student_data_merge = pd.merge(student_data_math,student_data_por\n",
        "                              ,on = ['school', 'sex','age','address','famsize','Pstatus','Medu','Fedu','Mjob',\n",
        "                                  'Fjob','reason' ,'nursery','internet'],\n",
        "                              suffixes =('_math','_por'))\n",
        "\n",
        "print('数学の出欠',student_data_merge.G2_math.mean())\n",
        "print('ポルトガル語の出欠',student_data_merge.G2_por.mean())\n",
        "\n",
        "from scipy import stats\n",
        "t,p = stats.ttest_rel(student_data_merge.G2_math,student_data_merge.G2_por)\n",
        "print('G2のp値 = ',p)\n",
        "t,q = stats.ttest_rel(student_data_merge.G3_math,student_data_merge.G3_por)\n",
        "print('G3のp値 = ',q)"
      ],
      "metadata": {
        "colab": {
          "base_uri": "https://localhost:8080/"
        },
        "id": "ix-L5T-KQP9A",
        "outputId": "9aaedee4-eb20-4b77-bb97-33d4bf891e27"
      },
      "execution_count": 14,
      "outputs": [
        {
          "output_type": "stream",
          "name": "stdout",
          "text": [
            "数学の出欠 10.712041884816754\n",
            "ポルトガル語の出欠 12.238219895287958\n",
            "G2のp値 =  4.0622824801348043e-19\n",
            "G3のp値 =  5.561492113688385e-21\n"
          ]
        }
      ]
    },
    {
      "cell_type": "markdown",
      "source": [
        "G2,G3ともにp値が優位水準を1%としても満たさないので、統計的に差があると考えられる"
      ],
      "metadata": {
        "id": "-qP6ze5QWDov"
      }
    },
    {
      "cell_type": "code",
      "source": [
        "#総合問題第4章(1)(2)\n",
        "student_data_merge = pd.merge(student_data_math,student_data_por\n",
        "                              ,on = ['school', 'sex','age','address','famsize','Pstatus','Medu','Fedu','Mjob',\n",
        "                                  'Fjob','reason' ,'nursery','internet'],\n",
        "                              suffixes =('_math','_por'))\n",
        "\n",
        "print('数学の出欠',student_data_merge.absences_math.mean())\n",
        "print('ポルトガル語の出欠',student_data_merge.absences_por.mean())\n",
        "print('数学の勉強時間',student_data_merge.studytime_math.mean())\n",
        "print('ポルトガル語の勉強時間',student_data_merge.studytime_por.mean())\n",
        "\n",
        "from scipy import stats\n",
        "t,p = stats.ttest_rel(student_data_merge.absences_math,student_data_merge.absences_por)\n",
        "print('出欠のp値 = ',p)\n",
        "t,q = stats.ttest_rel(student_data_merge.studytime_math,student_data_merge.studytime_por)\n",
        "print('勉強時間のp値 = ',q)"
      ],
      "metadata": {
        "colab": {
          "base_uri": "https://localhost:8080/"
        },
        "id": "yX3x-IssRbVO",
        "outputId": "91b428f6-4ffb-41f5-c982-a67819c4b9c2"
      },
      "execution_count": 15,
      "outputs": [
        {
          "output_type": "stream",
          "name": "stdout",
          "text": [
            "数学の出欠 5.319371727748691\n",
            "ポルトガル語の出欠 3.6727748691099475\n",
            "数学の勉強時間 2.0340314136125652\n",
            "ポルトガル語の勉強時間 2.0392670157068062\n",
            "出欠のp値 =  2.3441656888384195e-06\n",
            "勉強時間のp値 =  0.5643842756976525\n"
          ]
        }
      ]
    },
    {
      "cell_type": "markdown",
      "source": [
        "出欠のp値は有意差1%としても満たさないので、統計的に差があると考えられる。\n",
        "一方、勉強時間のp値は有意差5%としても満たさないので、統計的に差がないと考えられる。"
      ],
      "metadata": {
        "id": "6d-WWmMW9VPj"
      }
    }
  ]
}