{
 "cells": [
  {
   "cell_type": "code",
   "execution_count": 1,
   "id": "a373b1af",
   "metadata": {},
   "outputs": [
    {
     "data": {
      "text/plain": [
       "'%.3f'"
      ]
     },
     "execution_count": 1,
     "metadata": {},
     "output_type": "execute_result"
    }
   ],
   "source": [
    "# データ加工・処理・分析ライブラリ\n",
    "import numpy as np\n",
    "import numpy.random as random\n",
    "import scipy as sp\n",
    "from pandas import Series, DataFrame\n",
    "import pandas as pd\n",
    "\n",
    "# 可視化ライブラリ\n",
    "import matplotlib.pyplot as plt\n",
    "import matplotlib as mpl\n",
    "import seaborn as sns\n",
    "%matplotlib inline\n",
    "\n",
    "# 機械学習ライブラリ\n",
    "import sklearn\n",
    "\n",
    "# 小数第3位まで表示\n",
    "%precision 3"
   ]
  },
  {
   "cell_type": "code",
   "execution_count": 2,
   "id": "257f928e",
   "metadata": {},
   "outputs": [],
   "source": [
    "# インポート\n",
    "import requests, zipfile\n",
    "import io\n",
    "\n",
    "# 自動車価格データを取得\n",
    "url = 'http://archive.ics.uci.edu/ml/machine-learning-databases/autos/imports-85.data'\n",
    "res = requests.get(url).content\n",
    "\n",
    "# 取得したデータをDataFrameオブジェクトとして読み込み\n",
    "auto = pd.read_csv(io.StringIO(res.decode('utf-8')), header=None)\n",
    "\n",
    "# データの列にラベルを設定\n",
    "auto.columns =['symboling','normalized-losses','make','fuel-type' ,'aspiration','num-of-doors',\n",
    "                            'body-style','drive-wheels','engine-location','wheel-base','length','width','height',\n",
    "                            'curb-weight','engine-type','num-of-cylinders','engine-size','fuel-system','bore',\n",
    "                            'stroke','compression-ratio','horsepower','peak-rpm','city-mpg','highway-mpg','price']"
   ]
  },
  {
   "cell_type": "code",
   "execution_count": 3,
   "id": "fd83c803",
   "metadata": {},
   "outputs": [
    {
     "name": "stdout",
     "output_type": "stream",
     "text": [
      "自動車データの形式:(201, 3)\n",
      "データ型の確認（型変換前）\n",
      "price           object\n",
      "engine-size      int64\n",
      "width          float64\n",
      "dtype: object\n",
      "\n"
     ]
    }
   ],
   "source": [
    "# それぞれのカラムに ? が何個あるかカウント\n",
    "auto = auto[['price','engine-size','width']]\n",
    "auto.isin(['?']).sum()\n",
    "# '?'をNaNに置換して、NaNがある行を削除\n",
    "auto = auto.replace('?', np.nan).dropna()\n",
    "print('自動車データの形式:{}'.format(auto.shape))\n",
    "print('データ型の確認（型変換前）\\n{}\\n'.format(auto.dtypes))"
   ]
  },
  {
   "cell_type": "code",
   "execution_count": 4,
   "id": "8dfdee5f",
   "metadata": {},
   "outputs": [
    {
     "data": {
      "text/html": [
       "<div>\n",
       "<style scoped>\n",
       "    .dataframe tbody tr th:only-of-type {\n",
       "        vertical-align: middle;\n",
       "    }\n",
       "\n",
       "    .dataframe tbody tr th {\n",
       "        vertical-align: top;\n",
       "    }\n",
       "\n",
       "    .dataframe thead th {\n",
       "        text-align: right;\n",
       "    }\n",
       "</style>\n",
       "<table border=\"1\" class=\"dataframe\">\n",
       "  <thead>\n",
       "    <tr style=\"text-align: right;\">\n",
       "      <th></th>\n",
       "      <th>engine-size</th>\n",
       "      <th>width</th>\n",
       "    </tr>\n",
       "  </thead>\n",
       "  <tbody>\n",
       "    <tr>\n",
       "      <th>engine-size</th>\n",
       "      <td>1.000000</td>\n",
       "      <td>0.729436</td>\n",
       "    </tr>\n",
       "    <tr>\n",
       "      <th>width</th>\n",
       "      <td>0.729436</td>\n",
       "      <td>1.000000</td>\n",
       "    </tr>\n",
       "  </tbody>\n",
       "</table>\n",
       "</div>"
      ],
      "text/plain": [
       "             engine-size     width\n",
       "engine-size     1.000000  0.729436\n",
       "width           0.729436  1.000000"
      ]
     },
     "execution_count": 4,
     "metadata": {},
     "output_type": "execute_result"
    }
   ],
   "source": [
    "auto.corr()"
   ]
  },
  {
   "cell_type": "code",
   "execution_count": 5,
   "id": "813c994e",
   "metadata": {},
   "outputs": [
    {
     "name": "stdout",
     "output_type": "stream",
     "text": [
      "決定係数(train):0.783\n",
      "決定係数(test):0.778\n",
      "\n",
      "回帰係数\n",
      "engine-size     109.526787\n",
      "width          1261.735518\n",
      "dtype: float64\n",
      "切片: -84060.643\n"
     ]
    }
   ],
   "source": [
    "#練習問題8-1\n",
    "# データ分割（訓練データとテストデータ）のためのインポート\n",
    "from sklearn.model_selection import train_test_split\n",
    "\n",
    "# 重回帰のモデル構築のためのインポート\n",
    "from sklearn.linear_model import LinearRegression\n",
    "\n",
    " # 目的変数にpriceを指定、説明変数にそれ以外を指定\n",
    "X = auto.drop('price', axis=1)\n",
    "y = auto['price']\n",
    "\n",
    "# 訓練データとテストデータに分ける\n",
    "X_train, X_test, y_train, y_test = train_test_split(X, y, test_size=0.5, random_state=0)\n",
    "\n",
    "# 重回帰クラスの初期化と学習\n",
    "model = LinearRegression()\n",
    "model.fit(X_train,y_train)\n",
    "\n",
    "# 決定係数を表示\n",
    "print('決定係数(train):{:.3f}'.format(model.score(X_train,y_train)))\n",
    "print('決定係数(test):{:.3f}'.format(model.score(X_test,y_test)))\n",
    " \n",
    "# 回帰係数と切片を表示\n",
    "print('\\n回帰係数\\n{}'.format(pd.Series(model.coef_, index=X.columns)))\n",
    "print('切片: {:.3f}'.format(model.intercept_))"
   ]
  },
  {
   "cell_type": "code",
   "execution_count": 6,
   "id": "699af262",
   "metadata": {},
   "outputs": [
    {
     "name": "stdout",
     "output_type": "stream",
     "text": [
      "正解率(train):0.955\n",
      "正解率(test):0.930\n"
     ]
    },
    {
     "name": "stderr",
     "output_type": "stream",
     "text": [
      "C:\\Users\\litte\\anaconda3\\lib\\site-packages\\sklearn\\linear_model\\_logistic.py:814: ConvergenceWarning: lbfgs failed to converge (status=1):\n",
      "STOP: TOTAL NO. of ITERATIONS REACHED LIMIT.\n",
      "\n",
      "Increase the number of iterations (max_iter) or scale the data as shown in:\n",
      "    https://scikit-learn.org/stable/modules/preprocessing.html\n",
      "Please also refer to the documentation for alternative solver options:\n",
      "    https://scikit-learn.org/stable/modules/linear_model.html#logistic-regression\n",
      "  n_iter_i = _check_optimize_result(\n"
     ]
    }
   ],
   "source": [
    "# 練習問題8-2\n",
    "from sklearn.datasets import load_breast_cancer\n",
    "from sklearn.preprocessing import StandardScaler\n",
    "from sklearn.linear_model import LogisticRegression\n",
    "\n",
    "cancer = load_breast_cancer()\n",
    "X_train, X_test, y_train, y_test = train_test_split(\n",
    "    cancer.data, cancer.target, stratify = cancer.target, random_state=0)\n",
    "\n",
    "model = LogisticRegression()\n",
    "model.fit(X_train,y_train)\n",
    "print('正解率(train):{:.3f}'.format(model.score(X_train, y_train)))\n",
    "print('正解率(test):{:.3f}'.format(model.score(X_test, y_test)))"
   ]
  },
  {
   "cell_type": "code",
   "execution_count": 7,
   "id": "d6bfdc2e",
   "metadata": {},
   "outputs": [
    {
     "name": "stdout",
     "output_type": "stream",
     "text": [
      "正解率(train):0.955\n",
      "正解率(test):0.930\n"
     ]
    },
    {
     "name": "stderr",
     "output_type": "stream",
     "text": [
      "C:\\Users\\litte\\anaconda3\\lib\\site-packages\\sklearn\\linear_model\\_logistic.py:814: ConvergenceWarning: lbfgs failed to converge (status=1):\n",
      "STOP: TOTAL NO. of ITERATIONS REACHED LIMIT.\n",
      "\n",
      "Increase the number of iterations (max_iter) or scale the data as shown in:\n",
      "    https://scikit-learn.org/stable/modules/preprocessing.html\n",
      "Please also refer to the documentation for alternative solver options:\n",
      "    https://scikit-learn.org/stable/modules/linear_model.html#logistic-regression\n",
      "  n_iter_i = _check_optimize_result(\n"
     ]
    }
   ],
   "source": [
    "# 練習問題8-3\n",
    "from sklearn.datasets import load_breast_cancer\n",
    "from sklearn.preprocessing import StandardScaler\n",
    "from sklearn.linear_model import LogisticRegression\n",
    "\n",
    "cancer = load_breast_cancer()\n",
    "X_train, X_test, y_train, y_test = train_test_split(\n",
    "    cancer.data, cancer.target, stratify = cancer.target, random_state=0)\n",
    "#標準化処理\n",
    "sc = StandardScaler()\n",
    "sc.fit(X_train)\n",
    "X_train_std = sc.transform(X_train)\n",
    "X_test_std = sc.transform(X_test)\n",
    "#ロジスティック回帰クラスの初期化と学習\n",
    "model = LogisticRegression()\n",
    "model.fit(X_train,y_train)\n",
    "#正解率の表示\n",
    "print('正解率(train):{:.3f}'.format(model.score(X_train, y_train)))\n",
    "print('正解率(test):{:.3f}'.format(model.score(X_test, y_test)))"
   ]
  },
  {
   "cell_type": "code",
   "execution_count": 8,
   "id": "a3b71720",
   "metadata": {},
   "outputs": [],
   "source": [
    "#練習問題8-4\n",
    "# インポート\n",
    "import requests, zipfile\n",
    "import io\n",
    "\n",
    "# 自動車価格データを取得\n",
    "url = 'http://archive.ics.uci.edu/ml/machine-learning-databases/autos/imports-85.data'\n",
    "res = requests.get(url).content\n",
    "\n",
    "# 取得したデータをDataFrameオブジェクトとして読み込み\n",
    "auto = pd.read_csv(io.StringIO(res.decode('utf-8')), header=None)\n",
    "\n",
    "# データの列にラベルを設定\n",
    "auto.columns =['symboling','normalized-losses','make','fuel-type' ,'aspiration','num-of-doors',\n",
    "                            'body-style','drive-wheels','engine-location','wheel-base','length','width','height',\n",
    "                            'curb-weight','engine-type','num-of-cylinders','engine-size','fuel-system','bore',\n",
    "                            'stroke','compression-ratio','horsepower','peak-rpm','city-mpg','highway-mpg','price']"
   ]
  },
  {
   "cell_type": "code",
   "execution_count": 9,
   "id": "0f97118c",
   "metadata": {},
   "outputs": [],
   "source": [
    "#練習問題8-4\n",
    "# それぞれのカラムに ? が何個あるかカウント\n",
    "auto = auto[['price','engine-size','width']]\n",
    "auto.isin(['?']).sum()\n",
    "# '?'をNaNに置換して、NaNがある行を削除\n",
    "auto = auto.replace('?', np.nan).dropna()"
   ]
  },
  {
   "cell_type": "code",
   "execution_count": 10,
   "id": "dffaef0e",
   "metadata": {},
   "outputs": [
    {
     "name": "stdout",
     "output_type": "stream",
     "text": [
      "LinearRegression(train):0.783189\n",
      "LinearRegression(test):0.778292\n",
      "Lasso(train):0.783189\n",
      "Lasso(test):0.778318\n"
     ]
    }
   ],
   "source": [
    "#練習問題8-4\n",
    "# ラッソ回帰用のクラス\n",
    "from sklearn.linear_model import Ridge\n",
    "from sklearn.model_selection import train_test_split\n",
    "from sklearn.linear_model import Lasso\n",
    "\n",
    "# 訓練データとテストデータに分割\n",
    "X = auto.drop('price', axis=1)\n",
    "y = auto['price']\n",
    "X_train, X_test, y_train, y_test = train_test_split(X, y, test_size=0.5, random_state=0)\n",
    "\n",
    "# モデルの構築と評価\n",
    "linear = LinearRegression()\n",
    "Lasso = Lasso(random_state=0)\n",
    "\n",
    "for model in [linear, Lasso]:\n",
    "    model.fit(X_train,y_train)\n",
    "    print('{}(train):{:.6f}'.format(model.__class__.__name__ , model.score(X_train,y_train)))\n",
    "    print('{}(test):{:.6f}'.format(model.__class__.__name__ , model.score(X_test,y_test)))"
   ]
  },
  {
   "cell_type": "code",
   "execution_count": 11,
   "id": "bdddaea9",
   "metadata": {},
   "outputs": [
    {
     "data": {
      "text/html": [
       "<div>\n",
       "<style scoped>\n",
       "    .dataframe tbody tr th:only-of-type {\n",
       "        vertical-align: middle;\n",
       "    }\n",
       "\n",
       "    .dataframe tbody tr th {\n",
       "        vertical-align: top;\n",
       "    }\n",
       "\n",
       "    .dataframe thead th {\n",
       "        text-align: right;\n",
       "    }\n",
       "</style>\n",
       "<table border=\"1\" class=\"dataframe\">\n",
       "  <thead>\n",
       "    <tr style=\"text-align: right;\">\n",
       "      <th></th>\n",
       "      <th>test</th>\n",
       "      <th>train</th>\n",
       "    </tr>\n",
       "  </thead>\n",
       "  <tbody>\n",
       "    <tr>\n",
       "      <th>tree1</th>\n",
       "      <td>0.930070</td>\n",
       "      <td>0.971831</td>\n",
       "    </tr>\n",
       "    <tr>\n",
       "      <th>tree2</th>\n",
       "      <td>0.902098</td>\n",
       "      <td>0.997653</td>\n",
       "    </tr>\n",
       "    <tr>\n",
       "      <th>tree3</th>\n",
       "      <td>0.902098</td>\n",
       "      <td>1.000000</td>\n",
       "    </tr>\n",
       "    <tr>\n",
       "      <th>tree4</th>\n",
       "      <td>0.923077</td>\n",
       "      <td>0.974178</td>\n",
       "    </tr>\n",
       "    <tr>\n",
       "      <th>tree5</th>\n",
       "      <td>0.895105</td>\n",
       "      <td>1.000000</td>\n",
       "    </tr>\n",
       "    <tr>\n",
       "      <th>tree6</th>\n",
       "      <td>0.895105</td>\n",
       "      <td>1.000000</td>\n",
       "    </tr>\n",
       "  </tbody>\n",
       "</table>\n",
       "</div>"
      ],
      "text/plain": [
       "           test     train\n",
       "tree1  0.930070  0.971831\n",
       "tree2  0.902098  0.997653\n",
       "tree3  0.902098  1.000000\n",
       "tree4  0.923077  0.974178\n",
       "tree5  0.895105  1.000000\n",
       "tree6  0.895105  1.000000"
      ]
     },
     "execution_count": 11,
     "metadata": {},
     "output_type": "execute_result"
    }
   ],
   "source": [
    "#練習問題8-5\n",
    "# 解答\n",
    "from sklearn.tree import  DecisionTreeClassifier\n",
    "\n",
    "cancer = load_breast_cancer()\n",
    "X_train, X_test, y_train, y_test = train_test_split(\n",
    "    cancer.data, cancer.target, stratify = cancer.target, random_state=66)\n",
    "\n",
    "models = {\n",
    "    'tree1': DecisionTreeClassifier(criterion='entropy', max_depth=3,random_state=0),\n",
    "    'tree2': DecisionTreeClassifier(criterion='entropy', max_depth=5, random_state=0),\n",
    "    'tree3': DecisionTreeClassifier(criterion='entropy', max_depth=10, random_state=0),\n",
    "    'tree4': DecisionTreeClassifier(criterion='gini', max_depth=3, random_state=0),\n",
    "    'tree5': DecisionTreeClassifier(criterion='gini', max_depth=5, random_state=0),\n",
    "    'tree6': DecisionTreeClassifier(criterion='gini', max_depth=10, random_state=0)\n",
    "}\n",
    "\n",
    "scores = {}\n",
    "for model_name, model in models.items():\n",
    "    model.fit(X_train,y_train)\n",
    "    scores[(model_name, 'train')] = model.score(X_train, y_train)\n",
    "    scores[(model_name, 'test')] = model.score(X_test, y_test)\n",
    "\n",
    "pd.Series(scores).unstack()"
   ]
  },
  {
   "cell_type": "code",
   "execution_count": 14,
   "id": "308fda3f",
   "metadata": {},
   "outputs": [],
   "source": [
    "#練習問題8-6\n",
    "url = 'http://archive.ics.uci.edu/ml/machine-learning-databases/mushroom/agaricus-lepiota.data'\n",
    "res = requests.get(url).content\n",
    "\n",
    "mush = pd.read_csv(io.StringIO(res.decode('utf-8')), header=None)\n",
    "mush.columns =[\n",
    "    'classes','cap_shape','cap_surface','cap_color','odor','bruises',\n",
    "    'gill_attachment','gill_spacing','gill_size','gill_color','stalk_shape',\n",
    "    'stalk_root','stalk_surface_above_ring','stalk_surface_below_ring',\n",
    "    'stalk_color_above_ring','stalk_color_below_ring','veil_type','veil_color',\n",
    "    'ring_number','ring_type','spore_print_color','population','habitat'\n",
    "]\n",
    "\n",
    "mush_dummy = pd.get_dummies(mush[['gill_color','gill_attachment','odor','cap_color']])\n",
    "mush_dummy['flg'] = mush['classes'].map(lambda x: 1 if x =='p' else 0)\n"
   ]
  },
  {
   "cell_type": "code",
   "execution_count": 15,
   "id": "806ae811",
   "metadata": {},
   "outputs": [
    {
     "data": {
      "text/plain": [
       "<matplotlib.legend.Legend at 0x1b50114e100>"
      ]
     },
     "execution_count": 15,
     "metadata": {},
     "output_type": "execute_result"
    },
    {
     "data": {
      "image/png": "[encoded data removed]",
      "text/plain": [
       "<Figure size 432x288 with 1 Axes>"
      ]
     },
     "metadata": {
      "needs_background": "light"
     },
     "output_type": "display_data"
    }
   ],
   "source": [
    "#練習問題8-6\n",
    "from sklearn.neighbors import  KNeighborsClassifier\n",
    "\n",
    "# 説明変数と目的変数\n",
    "X = mush_dummy.drop('flg', axis=1)\n",
    "y = mush_dummy['flg']\n",
    "X_train, X_test, y_train, y_test = train_test_split(X, y, random_state=50)\n",
    "\n",
    "training_accuracy = []\n",
    "test_accuracy =[]\n",
    "neighbors_settings = range(1,20)\n",
    "for n_neighbors in neighbors_settings:\n",
    "    clf = KNeighborsClassifier(n_neighbors=n_neighbors)\n",
    "    clf.fit(X_train,y_train)\n",
    "    training_accuracy.append(clf.score(X_train, y_train))\n",
    "    test_accuracy.append(clf.score(X_test, y_test))\n",
    "    \n",
    "plt.plot(neighbors_settings, training_accuracy, label='training accuracy')\n",
    "plt.plot(neighbors_settings, test_accuracy, label='test accuracy')\n",
    "plt.ylabel('Accuracy')\n",
    "plt.xlabel('n_neighbors')\n",
    "plt.legend()"
   ]
  },
  {
   "cell_type": "code",
   "execution_count": 16,
   "id": "13788899",
   "metadata": {},
   "outputs": [],
   "source": [
    "import requests, zipfile\n",
    "from io import StringIO\n",
    "import io"
   ]
  },
  {
   "cell_type": "code",
   "execution_count": 17,
   "id": "4b409c9c",
   "metadata": {},
   "outputs": [],
   "source": [
    "# 練習問題8-7\n",
    "# データがあるurlの指定\n",
    "url = 'http://archive.ics.uci.edu/ml/machine-learning-databases/00356/student.zip'\n",
    "\n",
    "# データをurlから取得する\n",
    "r = requests.get(url, stream=True)\n",
    "\n",
    "# zipfileを読み込み展開する\n",
    "z = zipfile.ZipFile(io.BytesIO(r.content))\n",
    "z.extractall()"
   ]
  },
  {
   "cell_type": "code",
   "execution_count": 19,
   "id": "39d0e173",
   "metadata": {},
   "outputs": [],
   "source": [
    "# 練習問題8-7\n",
    "student = pd.read_csv('student-mat.csv', sep=';')\n",
    "X = student.loc[:, \n",
    "    ['age','Medu','Fedu','traveltime','studytime',\n",
    "     'failures','famrel','freetime','goout','Dalc','Walc',\n",
    "     'absences','G1','G2']].values"
   ]
  },
  {
   "cell_type": "code",
   "execution_count": 20,
   "id": "a6cf44c1",
   "metadata": {},
   "outputs": [
    {
     "data": {
      "text/plain": [
       "<matplotlib.legend.Legend at 0x1b5011e45e0>"
      ]
     },
     "execution_count": 20,
     "metadata": {},
     "output_type": "execute_result"
    },
    {
     "data": {
      "image/png": "[encoded data removed]",
      "text/plain": [
       "<Figure size 432x288 with 1 Axes>"
      ]
     },
     "metadata": {
      "needs_background": "light"
     },
     "output_type": "display_data"
    }
   ],
   "source": [
    "# 練習問題8-7\n",
    "from sklearn.neighbors import  KNeighborsRegressor\n",
    "\n",
    "X_train, X_test, y_train, y_test = train_test_split(\n",
    "    X, student.G3, random_state=0)\n",
    "\n",
    "scores_train = []\n",
    "scores_test =[]\n",
    "neighbors_settings = range(1, 20)\n",
    "for n_neighbors in neighbors_settings:\n",
    "    model = KNeighborsRegressor(n_neighbors=n_neighbors)\n",
    "    model.fit(X_train, y_train)\n",
    "    scores_train.append(model.score(X_train, y_train))\n",
    "    scores_test.append(model.score(X_test, y_test))\n",
    "    \n",
    "plt.plot(neighbors_settings, training_accuracy,label='Training')\n",
    "plt.plot(neighbors_settings, test_accuracy,label='Test')\n",
    "plt.ylabel('R2 score')\n",
    "plt.xlabel('n_neighbors')\n",
    "plt.legend()"
   ]
  },
  {
   "cell_type": "code",
   "execution_count": 22,
   "id": "0eb12610",
   "metadata": {},
   "outputs": [
    {
     "name": "stdout",
     "output_type": "stream",
     "text": [
      "正解率(train):0.988\n",
      "正解率(test):0.986\n"
     ]
    }
   ],
   "source": [
    "#練習問題8-7\n",
    "from sklearn.svm import SVC\n",
    "\n",
    "cancer = load_breast_cancer()\n",
    "X_train, X_test, y_train, y_test = train_test_split(\n",
    "    cancer.data, cancer.target, stratify = cancer.target, random_state=50)\n",
    "\n",
    "sc = StandardScaler()\n",
    "sc.fit(X_train)\n",
    "X_train_std = sc.transform(X_train)\n",
    "X_test_std = sc.transform(X_test)\n",
    "\n",
    "model = SVC(kernel='rbf', random_state=0, C=2)\n",
    "model.fit(X_train_std,y_train)\n",
    "print('正解率(train):{:.3f}'.format(model.score(X_train_std, y_train)))\n",
    "print('正解率(test):{:.3f}'.format(model.score(X_test_std, y_test)))"
   ]
  },
  {
   "cell_type": "markdown",
   "id": "a241ae18",
   "metadata": {},
   "source": [
    "回帰\n",
    "分類\n",
    "教師あり学習\n",
    "重回帰分析\n",
    "ロジスティック回帰分析"
   ]
  },
  {
   "cell_type": "code",
   "execution_count": null,
   "id": "b7200628",
   "metadata": {},
   "outputs": [],
   "source": []
  }
 ],
 "metadata": {
  "kernelspec": {
   "display_name": "Python 3 (ipykernel)",
   "language": "python",
   "name": "python3"
  },
  "language_info": {
   "codemirror_mode": {
    "name": "ipython",
    "version": 3
   },
   "file_extension": ".py",
   "mimetype": "text/x-python",
   "name": "python",
   "nbconvert_exporter": "python",
   "pygments_lexer": "ipython3",
   "version": "3.9.7"
  }
 },
 "nbformat": 4,
 "nbformat_minor": 5
}
