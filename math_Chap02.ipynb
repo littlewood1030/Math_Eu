{
  "nbformat": 4,
  "nbformat_minor": 0,
  "metadata": {
    "colab": {
      "name": "math_Chap02",
      "provenance": [],
      "authorship_tag": "ABX9TyN3myfistmG6S1bimtzjg4m",
      "include_colab_link": true
    },
    "kernelspec": {
      "name": "python3",
      "display_name": "Python 3"
    },
    "language_info": {
      "name": "python"
    }
  },
  "cells": [
    {
      "cell_type": "markdown",
      "metadata": {
        "id": "view-in-github",
        "colab_type": "text"
      },
      "source": [
        "<a href=\"https://colab.research.google.com/github/littlewood1030/Math_Eu/blob/main/math_Chap02.ipynb\" target=\"_parent\"><img src=\"https://colab.research.google.com/assets/colab-badge.svg\" alt=\"Open In Colab\"/></a>"
      ]
    },
    {
      "cell_type": "code",
      "execution_count": 9,
      "metadata": {
        "id": "7lan8cDCcHjg"
      },
      "outputs": [],
      "source": [
        "#Chap02_Cm-01\n",
        "import numpy as np\n",
        "import math\n",
        "\n",
        "N = 10000\n",
        "x = np.random.uniform(0.0,1.0,N)\n",
        "y = np.random.uniform(0.0,1.0,N)"
      ]
    },
    {
      "cell_type": "code",
      "source": [
        "#Chap02_Cm-02\n",
        "count = 0\n",
        "for i in range(0,N):\n",
        "    d = math.hypot(x[i],y[i])\n",
        "    if d<1:\n",
        "        count += 1\n",
        "print(count)"
      ],
      "metadata": {
        "id": "IFBKv4DNcrD_",
        "colab": {
          "base_uri": "https://localhost:8080/"
        },
        "outputId": "02240065-3219-400f-e51e-3c23f153d9e5"
      },
      "execution_count": 10,
      "outputs": [
        {
          "output_type": "stream",
          "name": "stdout",
          "text": [
            "7844\n"
          ]
        }
      ]
    },
    {
      "cell_type": "code",
      "source": [
        "#Chap02_Cm-03\n",
        "pi = (count/N)*4\n",
        "print(pi)"
      ],
      "metadata": {
        "colab": {
          "base_uri": "https://localhost:8080/"
        },
        "id": "o5YxoxMDeAwP",
        "outputId": "e76edc27-e390-4117-ad10-035b9436f0fc"
      },
      "execution_count": 11,
      "outputs": [
        {
          "output_type": "stream",
          "name": "stdout",
          "text": [
            "3.1376\n"
          ]
        }
      ]
    }
  ]
}