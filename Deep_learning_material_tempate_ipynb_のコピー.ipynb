{
  "cells": [
    {
      "cell_type": "markdown",
      "metadata": {
        "id": "view-in-github",
        "colab_type": "text"
      },
      "source": [
        "<a href=\"https://colab.research.google.com/github/littlewood1030/Math_Eu/blob/main/Deep_learning_material_tempate_ipynb_%E3%81%AE%E3%82%B3%E3%83%94%E3%83%BC.ipynb\" target=\"_parent\"><img src=\"https://colab.research.google.com/assets/colab-badge.svg\" alt=\"Open In Colab\"/></a>"
      ]
    },
    {
      "cell_type": "markdown",
      "source": [
        "# DNN 教材"
      ],
      "metadata": {
        "id": "xaHVTzJ4G9Qb"
      }
    },
    {
      "cell_type": "markdown",
      "metadata": {
        "id": "JDFBVx0PvTy2"
      },
      "source": [
        "### Perceptron"
      ]
    },
    {
      "cell_type": "markdown",
      "metadata": {
        "id": "W6OWATZWvTy3"
      },
      "source": [
        "実際にPerceptronを使って、Irisの花の種類がIris Setosaかそれ以外かを判別するモデルを作る。\n",
        "\n",
        "__Dataset__ \n",
        "\n",
        "50個のIrisの花に関するレコードがある。がく片の幅、がく片の長さ、花弁の長さ、花弁の幅、Irisの花の種類が一つのレコードに含まれている。花の種類は、Iris Setosa、Iris VersicolourとIris Virginicaのどれか。\n",
        "\n",
        "__Goal__\n",
        "\n",
        "Irisのがく片と花弁の特徴を基に、IrisがIris Setosaかそれ以外かを判別するモデルを作る"
      ]
    },
    {
      "cell_type": "code",
      "execution_count": null,
      "metadata": {
        "id": "OVZXi93mvTy3",
        "outputId": "fd63ca02-26b9-468e-c85e-31b01b2a70f8",
        "colab": {
          "base_uri": "https://localhost:8080/"
        }
      },
      "outputs": [
        {
          "output_type": "stream",
          "name": "stdout",
          "text": [
            "Accuracy: 1.0\n"
          ]
        }
      ],
      "source": [
        "import numpy as np \n",
        "from sklearn.datasets import load_iris \n",
        "from sklearn.linear_model import Perceptron\n",
        "from sklearn.model_selection import train_test_split\n",
        "from sklearn.metrics import accuracy_score\n",
        "\n",
        "#データセットをロード\n",
        "iris = load_iris()\n",
        "#predictor と　target に分ける\n",
        "X = iris.data      \n",
        "#Iris Setosaが１の値をとり、それ以外は０\n",
        "Y = (iris.target==0).astype(int)\n",
        "\n",
        "#データセットのシャッフルをして、トレーニング用とテスト用のデータに分ける\n",
        "#モデルの評価をしっかりやりたい時は、cross validationを実行、さらにハイパーパラメータの最適化を行う\n",
        "train_X, test_X, train_Y, test_Y = train_test_split(X,Y,test_size = 0.3, random_state=42, shuffle=True)\n",
        "\n",
        "#トレーニング\n",
        "perc_clf = Perceptron()\n",
        "perc_clf.fit(train_X,train_Y)\n",
        "\n",
        "#テスト\n",
        "predictions  = perc_clf.predict(test_X)\n",
        "\n",
        "#Accuracyを計算\n",
        "print(\"Accuracy: \" +str(accuracy_score(test_Y,predictions))) "
      ]
    },
    {
      "cell_type": "markdown",
      "metadata": {
        "id": "NUDPWu9CvTy5"
      },
      "source": [
        "### Multi Layer Perceptron using Scikit learn"
      ]
    },
    {
      "cell_type": "markdown",
      "metadata": {
        "id": "F6A-qF2rvTy5"
      },
      "source": [
        "Multi Layer Perceptronを使って、3つのIrisの種類を判別するモデルを作る\n",
        "\n",
        "__Dataset__\n",
        "\n",
        "前回と同じ\n",
        "\n",
        "__Goal__\n",
        "\n",
        "Irisのがく片と花弁の特徴を基に、Irisの花がIris Setosa、Iris Versicolour、それともIris Virginicaかを判別する。\n",
        "\n",
        "__Note__\n",
        "\n",
        "\n",
        "*   一つのクラスの判別に一つのoutput nodeが必要なので、3つのoutput nodeが必要。ただコードを書く際にこの指定は不要。\n",
        "\n",
        "*   一つ一つのアウトプットノードはそのクラスに当てはまる確率を計算して、出力。\n",
        "\n",
        "\n",
        "\n",
        "*   一つのレコードに対して一つのクラスが割り当てられているので、その三つのoutput node から出てくる確率の合計は１になる必要がある。\n",
        "\n"
      ]
    },
    {
      "cell_type": "code",
      "execution_count": null,
      "metadata": {
        "id": "fqXSwyakvTy5",
        "outputId": "1207e75f-a80f-4266-885a-8125870e9818",
        "colab": {
          "base_uri": "https://localhost:8080/"
        }
      },
      "outputs": [
        {
          "output_type": "stream",
          "name": "stdout",
          "text": [
            "Accuracy: 0.9777777777777777\n"
          ]
        }
      ],
      "source": [
        "from sklearn.datasets import load_iris\n",
        "from sklearn.neural_network import MLPClassifier\n",
        "from sklearn.model_selection import train_test_split\n",
        "from sklearn.metrics import accuracy_score\n",
        "#データセットをロード\n",
        "iris = load_iris()\n",
        "#predictor と　target に分ける\n",
        "X = iris.data \n",
        "Y = iris.target\n",
        "\n",
        "#データセットのシャッフルをして、トレーニング用とテスト用のデータに分ける\n",
        "#モデルの評価をしっかりやりたい時は、validationのデータセットを作るのが良い。\n",
        "train_X, test_X, train_Y, test_Y = train_test_split(X,Y,test_size = 0.3, random_state=42, shuffle=True)\n",
        "\n",
        "#二つのHidden Layer を追加、それぞれ10個のニューロンを持つ\n",
        "mlp_clsf = MLPClassifier((10,10),activation ='relu',learning_rate='constant',learning_rate_init=0.001,max_iter=1000,random_state=42)\n",
        "mlp_clsf.fit(train_X,train_Y)\n",
        "predictions = mlp_clsf.predict(test_X)\n",
        "print(\"Accuracy: \"+str(accuracy_score(test_Y,predictions)))\n",
        "\n"
      ]
    },
    {
      "cell_type": "code",
      "execution_count": null,
      "metadata": {
        "id": "XfyE9k6SvTy6",
        "outputId": "0ed8b96b-abcd-459e-e650-d23191f68923",
        "colab": {
          "base_uri": "https://localhost:8080/"
        }
      },
      "outputs": [
        {
          "output_type": "execute_result",
          "data": {
            "text/plain": [
              "1.0"
            ]
          },
          "metadata": {},
          "execution_count": 21
        }
      ],
      "source": [
        "#確率の合計が１かを確認\n",
        "mlp_clsf.predict_proba(test_X[0].reshape(1,-1)).sum()\n"
      ]
    },
    {
      "cell_type": "markdown",
      "metadata": {
        "id": "AQI7-M9KvTy6"
      },
      "source": [
        "### Activation Function "
      ]
    },
    {
      "cell_type": "markdown",
      "source": [
        "このMLPにSoftmaxがactivation functionとして使われている"
      ],
      "metadata": {
        "id": "k7_W11IYID2p"
      }
    },
    {
      "cell_type": "code",
      "execution_count": null,
      "metadata": {
        "id": "ffl1_qbxvTy7",
        "outputId": "d173a4cd-2acd-44a6-f71b-3969cb130745",
        "colab": {
          "base_uri": "https://localhost:8080/",
          "height": 36
        }
      },
      "outputs": [
        {
          "output_type": "execute_result",
          "data": {
            "text/plain": [
              "'softmax'"
            ],
            "application/vnd.google.colaboratory.intrinsic+json": {
              "type": "string"
            }
          },
          "metadata": {},
          "execution_count": 22
        }
      ],
      "source": [
        "mlp_clsf.out_activation_"
      ]
    },
    {
      "cell_type": "markdown",
      "metadata": {
        "id": "xEC5-Px4vTy7"
      },
      "source": [
        "## MLP Regression "
      ]
    },
    {
      "cell_type": "markdown",
      "metadata": {
        "id": "ENGVw0vUvTy7"
      },
      "source": [
        "MLP Regressorを用いて、ボストンの住宅価格(単位は1000$)を予測するモデルを作る\n",
        "\n",
        "__Dataset__ \n",
        "\n",
        "1970年代のボストン郊外の住宅地に関するデータセット。ボストン郊外の異なるロケーションで13個の住宅に関する変数と住宅の価格の中央値が記録されている。506個のレコードが記録されている。\n",
        "\n",
        "__Goal__\n",
        "\n",
        "その中央値を13個の変数を基に予測する。\n",
        "\n",
        "\n",
        "　"
      ]
    },
    {
      "cell_type": "code",
      "execution_count": null,
      "metadata": {
        "scrolled": true,
        "id": "fC6bRC1PvTy7",
        "outputId": "823b53ff-3f83-49e1-a63f-0a64348a532a",
        "colab": {
          "base_uri": "https://localhost:8080/"
        }
      },
      "outputs": [
        {
          "output_type": "stream",
          "name": "stderr",
          "text": [
            "/usr/local/lib/python3.7/dist-packages/sklearn/utils/deprecation.py:87: FutureWarning: Function load_boston is deprecated; `load_boston` is deprecated in 1.0 and will be removed in 1.2.\n",
            "\n",
            "    The Boston housing prices dataset has an ethical problem. You can refer to\n",
            "    the documentation of this function for further details.\n",
            "\n",
            "    The scikit-learn maintainers therefore strongly discourage the use of this\n",
            "    dataset unless the purpose of the code is to study and educate about\n",
            "    ethical issues in data science and machine learning.\n",
            "\n",
            "    In this special case, you can fetch the dataset from the original\n",
            "    source::\n",
            "\n",
            "        import pandas as pd\n",
            "        import numpy as np\n",
            "\n",
            "\n",
            "        data_url = \"http://lib.stat.cmu.edu/datasets/boston\"\n",
            "        raw_df = pd.read_csv(data_url, sep=\"\\s+\", skiprows=22, header=None)\n",
            "        data = np.hstack([raw_df.values[::2, :], raw_df.values[1::2, :2]])\n",
            "        target = raw_df.values[1::2, 2]\n",
            "\n",
            "    Alternative datasets include the California housing dataset (i.e.\n",
            "    :func:`~sklearn.datasets.fetch_california_housing`) and the Ames housing\n",
            "    dataset. You can load the datasets as follows::\n",
            "\n",
            "        from sklearn.datasets import fetch_california_housing\n",
            "        housing = fetch_california_housing()\n",
            "\n",
            "    for the California housing dataset and::\n",
            "\n",
            "        from sklearn.datasets import fetch_openml\n",
            "        housing = fetch_openml(name=\"house_prices\", as_frame=True)\n",
            "\n",
            "    for the Ames housing dataset.\n",
            "    \n",
            "  warnings.warn(msg, category=FutureWarning)\n"
          ]
        },
        {
          "output_type": "stream",
          "name": "stdout",
          "text": [
            "RSME: 4.699377521565086\n"
          ]
        }
      ],
      "source": [
        "from sklearn.datasets import load_boston\n",
        "from sklearn.neural_network import MLPRegressor\n",
        "from sklearn.model_selection import train_test_split\n",
        "from sklearn.metrics import mean_squared_error\n",
        "\n",
        "#データセットをロード\n",
        "dataset  = load_boston()\n",
        "X = dataset['data']\n",
        "Y = dataset['target']\n",
        "\n",
        "#テストとトレーニングのデータセットに分ける\n",
        "#モデルの評価をしっかりやりたい時は、validationのデータセットを作るのが良い。\n",
        "train_X, test_X, train_Y, test_Y = train_test_split(X,Y, test_size = 0.3, random_state = 42, shuffle =True) \n",
        "\n",
        "#２個のhidden layerを追加　activation function は relu.\n",
        "mlp_reg  = MLPRegressor((10,10),activation ='relu',learning_rate='constant',learning_rate_init=0.001,max_iter=3000,random_state=42)\n",
        "mlp_reg.fit(train_X,train_Y)\n",
        "predictions = mlp_reg.predict(test_X)\n",
        "\n",
        "#RSMEを計算\n",
        "error = mean_squared_error(test_Y,predictions) ** (1/2)\n",
        "print(\"RSME: \" +str(error))\n"
      ]
    },
    {
      "cell_type": "markdown",
      "metadata": {
        "id": "VfeMh6E7vTy8"
      },
      "source": [
        "::アウトプットノードのActivation functionはIdentity。（Activation function は使われていないということ。）"
      ]
    },
    {
      "cell_type": "code",
      "execution_count": null,
      "metadata": {
        "scrolled": true,
        "id": "yLfuWPKWvTy8",
        "outputId": "392335b2-b77a-4159-c6f6-a63209f82c12",
        "colab": {
          "base_uri": "https://localhost:8080/",
          "height": 36
        }
      },
      "outputs": [
        {
          "output_type": "execute_result",
          "data": {
            "text/plain": [
              "'identity'"
            ],
            "application/vnd.google.colaboratory.intrinsic+json": {
              "type": "string"
            }
          },
          "metadata": {},
          "execution_count": 24
        }
      ],
      "source": [
        "mlp_reg.out_activation_"
      ]
    },
    {
      "cell_type": "markdown",
      "metadata": {
        "id": "KFaUB_E7vTy8"
      },
      "source": [
        "## Regression using Keras  "
      ]
    },
    {
      "cell_type": "code",
      "execution_count": null,
      "metadata": {
        "scrolled": true,
        "id": "36cxPugbvTy8",
        "outputId": "d7781564-8b93-4f8f-8c03-df7910858603",
        "colab": {
          "base_uri": "https://localhost:8080/"
        }
      },
      "outputs": [
        {
          "output_type": "stream",
          "name": "stdout",
          "text": [
            "Model: \"sequential_2\"\n",
            "_________________________________________________________________\n",
            " Layer (type)                Output Shape              Param #   \n",
            "=================================================================\n",
            " dense_3 (Dense)             (None, 30)                420       \n",
            "                                                                 \n",
            " dense_4 (Dense)             (None, 1)                 31        \n",
            "                                                                 \n",
            "=================================================================\n",
            "Total params: 451\n",
            "Trainable params: 451\n",
            "Non-trainable params: 0\n",
            "_________________________________________________________________\n",
            "Epoch 1/70\n",
            "10/10 [==============================] - 1s 26ms/step - loss: 183.2102 - root_mean_squared_error: 13.5355 - val_loss: 44.9610 - val_root_mean_squared_error: 6.7053\n",
            "Epoch 2/70\n",
            "10/10 [==============================] - 0s 8ms/step - loss: 30.6164 - root_mean_squared_error: 5.5332 - val_loss: 24.3220 - val_root_mean_squared_error: 4.9317\n",
            "Epoch 3/70\n",
            "10/10 [==============================] - 0s 8ms/step - loss: 20.9734 - root_mean_squared_error: 4.5797 - val_loss: 26.3170 - val_root_mean_squared_error: 5.1300\n",
            "Epoch 4/70\n",
            "10/10 [==============================] - 0s 10ms/step - loss: 18.8204 - root_mean_squared_error: 4.3383 - val_loss: 22.2255 - val_root_mean_squared_error: 4.7144\n",
            "Epoch 5/70\n",
            "10/10 [==============================] - 0s 6ms/step - loss: 15.6001 - root_mean_squared_error: 3.9497 - val_loss: 15.8129 - val_root_mean_squared_error: 3.9765\n",
            "Epoch 6/70\n",
            "10/10 [==============================] - 0s 9ms/step - loss: 13.2715 - root_mean_squared_error: 3.6430 - val_loss: 15.8528 - val_root_mean_squared_error: 3.9816\n",
            "Epoch 7/70\n",
            "10/10 [==============================] - 0s 9ms/step - loss: 12.5327 - root_mean_squared_error: 3.5402 - val_loss: 24.6304 - val_root_mean_squared_error: 4.9629\n",
            "Epoch 8/70\n",
            "10/10 [==============================] - 0s 8ms/step - loss: 12.1904 - root_mean_squared_error: 3.4915 - val_loss: 16.5901 - val_root_mean_squared_error: 4.0731\n",
            "Epoch 9/70\n",
            "10/10 [==============================] - 0s 8ms/step - loss: 11.6297 - root_mean_squared_error: 3.4102 - val_loss: 17.6471 - val_root_mean_squared_error: 4.2009\n",
            "Epoch 10/70\n",
            "10/10 [==============================] - 0s 8ms/step - loss: 10.9651 - root_mean_squared_error: 3.3114 - val_loss: 13.1070 - val_root_mean_squared_error: 3.6204\n",
            "Epoch 11/70\n",
            "10/10 [==============================] - 0s 9ms/step - loss: 11.8657 - root_mean_squared_error: 3.4447 - val_loss: 22.3529 - val_root_mean_squared_error: 4.7279\n",
            "Epoch 12/70\n",
            "10/10 [==============================] - 0s 9ms/step - loss: 10.8206 - root_mean_squared_error: 3.2895 - val_loss: 17.0662 - val_root_mean_squared_error: 4.1311\n",
            "Epoch 13/70\n",
            "10/10 [==============================] - 0s 9ms/step - loss: 10.4304 - root_mean_squared_error: 3.2296 - val_loss: 13.6653 - val_root_mean_squared_error: 3.6967\n",
            "Epoch 14/70\n",
            "10/10 [==============================] - 0s 8ms/step - loss: 13.0684 - root_mean_squared_error: 3.6150 - val_loss: 12.9856 - val_root_mean_squared_error: 3.6036\n",
            "Epoch 15/70\n",
            "10/10 [==============================] - 0s 8ms/step - loss: 10.4403 - root_mean_squared_error: 3.2311 - val_loss: 18.3141 - val_root_mean_squared_error: 4.2795\n",
            "Epoch 16/70\n",
            "10/10 [==============================] - 0s 8ms/step - loss: 10.3804 - root_mean_squared_error: 3.2219 - val_loss: 12.6898 - val_root_mean_squared_error: 3.5623\n",
            "Epoch 17/70\n",
            "10/10 [==============================] - 0s 8ms/step - loss: 10.9600 - root_mean_squared_error: 3.3106 - val_loss: 14.6853 - val_root_mean_squared_error: 3.8321\n",
            "Epoch 18/70\n",
            "10/10 [==============================] - 0s 8ms/step - loss: 10.7397 - root_mean_squared_error: 3.2772 - val_loss: 20.9480 - val_root_mean_squared_error: 4.5769\n",
            "Epoch 19/70\n",
            "10/10 [==============================] - 0s 7ms/step - loss: 9.9268 - root_mean_squared_error: 3.1507 - val_loss: 13.8907 - val_root_mean_squared_error: 3.7270\n",
            "Epoch 20/70\n",
            "10/10 [==============================] - 0s 8ms/step - loss: 9.6054 - root_mean_squared_error: 3.0993 - val_loss: 12.5720 - val_root_mean_squared_error: 3.5457\n",
            "Epoch 21/70\n",
            "10/10 [==============================] - 0s 7ms/step - loss: 9.5441 - root_mean_squared_error: 3.0894 - val_loss: 12.4863 - val_root_mean_squared_error: 3.5336\n",
            "Epoch 22/70\n",
            "10/10 [==============================] - 0s 6ms/step - loss: 9.6631 - root_mean_squared_error: 3.1085 - val_loss: 14.3226 - val_root_mean_squared_error: 3.7845\n",
            "Epoch 23/70\n",
            "10/10 [==============================] - 0s 6ms/step - loss: 9.7053 - root_mean_squared_error: 3.1153 - val_loss: 10.2416 - val_root_mean_squared_error: 3.2003\n",
            "Epoch 24/70\n",
            "10/10 [==============================] - 0s 5ms/step - loss: 11.0307 - root_mean_squared_error: 3.3213 - val_loss: 13.9144 - val_root_mean_squared_error: 3.7302\n",
            "Epoch 25/70\n",
            "10/10 [==============================] - 0s 5ms/step - loss: 8.6724 - root_mean_squared_error: 2.9449 - val_loss: 12.5570 - val_root_mean_squared_error: 3.5436\n",
            "Epoch 26/70\n",
            "10/10 [==============================] - 0s 5ms/step - loss: 10.5868 - root_mean_squared_error: 3.2537 - val_loss: 12.0755 - val_root_mean_squared_error: 3.4750\n",
            "Epoch 27/70\n",
            "10/10 [==============================] - 0s 6ms/step - loss: 8.9388 - root_mean_squared_error: 2.9898 - val_loss: 10.4281 - val_root_mean_squared_error: 3.2293\n",
            "Epoch 28/70\n",
            "10/10 [==============================] - 0s 5ms/step - loss: 9.5760 - root_mean_squared_error: 3.0945 - val_loss: 10.2543 - val_root_mean_squared_error: 3.2022\n",
            "Epoch 29/70\n",
            "10/10 [==============================] - 0s 5ms/step - loss: 9.5374 - root_mean_squared_error: 3.0883 - val_loss: 17.6405 - val_root_mean_squared_error: 4.2001\n",
            "Epoch 30/70\n",
            "10/10 [==============================] - 0s 6ms/step - loss: 10.3322 - root_mean_squared_error: 3.2144 - val_loss: 16.1831 - val_root_mean_squared_error: 4.0228\n",
            "Epoch 31/70\n",
            "10/10 [==============================] - 0s 5ms/step - loss: 9.2987 - root_mean_squared_error: 3.0494 - val_loss: 11.8178 - val_root_mean_squared_error: 3.4377\n",
            "Epoch 32/70\n",
            "10/10 [==============================] - 0s 7ms/step - loss: 8.6132 - root_mean_squared_error: 2.9348 - val_loss: 11.4531 - val_root_mean_squared_error: 3.3842\n",
            "Epoch 33/70\n",
            "10/10 [==============================] - 0s 5ms/step - loss: 10.4809 - root_mean_squared_error: 3.2374 - val_loss: 18.6062 - val_root_mean_squared_error: 4.3135\n",
            "Epoch 34/70\n",
            "10/10 [==============================] - 0s 5ms/step - loss: 9.2323 - root_mean_squared_error: 3.0385 - val_loss: 11.7293 - val_root_mean_squared_error: 3.4248\n",
            "Epoch 35/70\n",
            "10/10 [==============================] - 0s 5ms/step - loss: 8.3287 - root_mean_squared_error: 2.8859 - val_loss: 19.6987 - val_root_mean_squared_error: 4.4383\n",
            "Epoch 36/70\n",
            "10/10 [==============================] - 0s 5ms/step - loss: 9.2976 - root_mean_squared_error: 3.0492 - val_loss: 13.6830 - val_root_mean_squared_error: 3.6991\n",
            "Epoch 37/70\n",
            "10/10 [==============================] - 0s 6ms/step - loss: 9.6840 - root_mean_squared_error: 3.1119 - val_loss: 13.4769 - val_root_mean_squared_error: 3.6711\n",
            "Epoch 38/70\n",
            "10/10 [==============================] - 0s 5ms/step - loss: 10.3289 - root_mean_squared_error: 3.2139 - val_loss: 10.6036 - val_root_mean_squared_error: 3.2563\n",
            "Epoch 39/70\n",
            "10/10 [==============================] - 0s 7ms/step - loss: 8.4920 - root_mean_squared_error: 2.9141 - val_loss: 11.8858 - val_root_mean_squared_error: 3.4476\n",
            "Epoch 40/70\n",
            "10/10 [==============================] - 0s 7ms/step - loss: 8.5563 - root_mean_squared_error: 2.9251 - val_loss: 9.6923 - val_root_mean_squared_error: 3.1132\n",
            "Epoch 41/70\n",
            "10/10 [==============================] - 0s 7ms/step - loss: 8.4767 - root_mean_squared_error: 2.9115 - val_loss: 12.2023 - val_root_mean_squared_error: 3.4932\n",
            "Epoch 42/70\n",
            "10/10 [==============================] - 0s 5ms/step - loss: 8.3723 - root_mean_squared_error: 2.8935 - val_loss: 13.8943 - val_root_mean_squared_error: 3.7275\n",
            "Epoch 43/70\n",
            "10/10 [==============================] - 0s 5ms/step - loss: 8.4813 - root_mean_squared_error: 2.9123 - val_loss: 9.3437 - val_root_mean_squared_error: 3.0567\n",
            "Epoch 44/70\n",
            "10/10 [==============================] - 0s 5ms/step - loss: 7.9466 - root_mean_squared_error: 2.8190 - val_loss: 16.1728 - val_root_mean_squared_error: 4.0215\n",
            "Epoch 45/70\n",
            "10/10 [==============================] - 0s 5ms/step - loss: 8.3948 - root_mean_squared_error: 2.8974 - val_loss: 9.1079 - val_root_mean_squared_error: 3.0179\n",
            "Epoch 46/70\n",
            "10/10 [==============================] - 0s 6ms/step - loss: 7.7551 - root_mean_squared_error: 2.7848 - val_loss: 8.5418 - val_root_mean_squared_error: 2.9226\n",
            "Epoch 47/70\n",
            "10/10 [==============================] - 0s 5ms/step - loss: 8.6124 - root_mean_squared_error: 2.9347 - val_loss: 11.4125 - val_root_mean_squared_error: 3.3782\n",
            "Epoch 48/70\n",
            "10/10 [==============================] - 0s 6ms/step - loss: 7.9497 - root_mean_squared_error: 2.8195 - val_loss: 17.6014 - val_root_mean_squared_error: 4.1954\n",
            "Epoch 49/70\n",
            "10/10 [==============================] - 0s 5ms/step - loss: 8.2463 - root_mean_squared_error: 2.8716 - val_loss: 10.9295 - val_root_mean_squared_error: 3.3060\n",
            "Epoch 50/70\n",
            "10/10 [==============================] - 0s 5ms/step - loss: 7.9115 - root_mean_squared_error: 2.8127 - val_loss: 14.9287 - val_root_mean_squared_error: 3.8638\n",
            "Epoch 51/70\n",
            "10/10 [==============================] - 0s 5ms/step - loss: 8.4890 - root_mean_squared_error: 2.9136 - val_loss: 11.8717 - val_root_mean_squared_error: 3.4455\n",
            "Epoch 52/70\n",
            "10/10 [==============================] - 0s 5ms/step - loss: 8.2858 - root_mean_squared_error: 2.8785 - val_loss: 9.9149 - val_root_mean_squared_error: 3.1488\n",
            "Epoch 53/70\n",
            "10/10 [==============================] - 0s 6ms/step - loss: 8.5406 - root_mean_squared_error: 2.9224 - val_loss: 10.7506 - val_root_mean_squared_error: 3.2788\n",
            "Epoch 54/70\n",
            "10/10 [==============================] - 0s 5ms/step - loss: 7.8281 - root_mean_squared_error: 2.7979 - val_loss: 11.0260 - val_root_mean_squared_error: 3.3205\n",
            "Epoch 55/70\n",
            "10/10 [==============================] - 0s 6ms/step - loss: 7.3754 - root_mean_squared_error: 2.7158 - val_loss: 11.7875 - val_root_mean_squared_error: 3.4333\n",
            "Epoch 56/70\n",
            "10/10 [==============================] - 0s 5ms/step - loss: 7.6240 - root_mean_squared_error: 2.7612 - val_loss: 11.0952 - val_root_mean_squared_error: 3.3309\n",
            "Epoch 57/70\n",
            "10/10 [==============================] - 0s 5ms/step - loss: 7.6745 - root_mean_squared_error: 2.7703 - val_loss: 10.2819 - val_root_mean_squared_error: 3.2065\n",
            "Epoch 58/70\n",
            "10/10 [==============================] - 0s 5ms/step - loss: 7.3136 - root_mean_squared_error: 2.7044 - val_loss: 8.9253 - val_root_mean_squared_error: 2.9875\n",
            "Epoch 59/70\n",
            "10/10 [==============================] - 0s 5ms/step - loss: 7.2903 - root_mean_squared_error: 2.7001 - val_loss: 9.1062 - val_root_mean_squared_error: 3.0177\n",
            "Epoch 60/70\n",
            "10/10 [==============================] - 0s 6ms/step - loss: 7.3449 - root_mean_squared_error: 2.7101 - val_loss: 11.8111 - val_root_mean_squared_error: 3.4367\n",
            "Epoch 61/70\n",
            "10/10 [==============================] - 0s 5ms/step - loss: 7.9747 - root_mean_squared_error: 2.8240 - val_loss: 17.7548 - val_root_mean_squared_error: 4.2136\n",
            "Epoch 62/70\n",
            "10/10 [==============================] - 0s 5ms/step - loss: 8.3774 - root_mean_squared_error: 2.8944 - val_loss: 9.3738 - val_root_mean_squared_error: 3.0617\n",
            "Epoch 63/70\n",
            "10/10 [==============================] - 0s 6ms/step - loss: 7.8056 - root_mean_squared_error: 2.7938 - val_loss: 8.5416 - val_root_mean_squared_error: 2.9226\n",
            "Epoch 64/70\n",
            "10/10 [==============================] - 0s 7ms/step - loss: 7.7692 - root_mean_squared_error: 2.7873 - val_loss: 10.3269 - val_root_mean_squared_error: 3.2136\n",
            "Epoch 65/70\n",
            "10/10 [==============================] - 0s 5ms/step - loss: 7.5469 - root_mean_squared_error: 2.7472 - val_loss: 12.2232 - val_root_mean_squared_error: 3.4962\n",
            "Epoch 66/70\n",
            "10/10 [==============================] - 0s 5ms/step - loss: 7.7187 - root_mean_squared_error: 2.7783 - val_loss: 9.6829 - val_root_mean_squared_error: 3.1117\n",
            "Epoch 67/70\n",
            "10/10 [==============================] - 0s 5ms/step - loss: 6.9619 - root_mean_squared_error: 2.6385 - val_loss: 11.4576 - val_root_mean_squared_error: 3.3849\n",
            "Epoch 68/70\n",
            "10/10 [==============================] - 0s 6ms/step - loss: 7.6436 - root_mean_squared_error: 2.7647 - val_loss: 10.4604 - val_root_mean_squared_error: 3.2343\n",
            "Epoch 69/70\n",
            "10/10 [==============================] - 0s 5ms/step - loss: 9.0477 - root_mean_squared_error: 3.0079 - val_loss: 10.0621 - val_root_mean_squared_error: 3.1721\n",
            "Epoch 70/70\n",
            "10/10 [==============================] - 0s 6ms/step - loss: 7.2533 - root_mean_squared_error: 2.6932 - val_loss: 12.5168 - val_root_mean_squared_error: 3.5379\n"
          ]
        }
      ],
      "source": [
        "import tensorflow as tf \n",
        "from tensorflow import keras\n",
        "from sklearn.preprocessing import StandardScaler\n",
        "\n",
        "#データセットをダウンロード\n",
        "house_price = keras.datasets.boston_housing \n",
        "#データをtraining, validation, test に分ける\n",
        "(train_X, train_Y), (test_X, test_Y) = house_price.load_data()\n",
        "train_X, valid_X, train_Y, valid_Y = train_test_split(train_X, train_Y)\n",
        "\n",
        "#変数をスケーリング　最適化を早くするため\n",
        "scaler  = StandardScaler() \n",
        "train_X = scaler.fit_transform(train_X)\n",
        "valid_X = scaler.fit_transform(valid_X)\n",
        "test_X = scaler.fit_transform(test_X)\n",
        "\n",
        "#KerasのSequential model を使う\n",
        "keras_model = keras.models.Sequential() \n",
        "\n",
        "#インプットレイヤーを追加\n",
        "keras_model.add(tf.keras.Input(shape=train_X.shape[1:],)) \n",
        "\n",
        "#Hidden layer を追加\n",
        "keras_model.add(tf.keras.layers.Dense(30,activation=\"relu\"))\n",
        "\n",
        "#Output layer を追加\n",
        "keras_model.add(tf.keras.layers.Dense(1))\n",
        "keras_model.summary()\n",
        "\n",
        "#モデルをコンパイル\n",
        "keras_model.compile(loss=\"mean_squared_error\", optimizer=\"sgd\",metrics=[tf.keras.metrics.RootMeanSquaredError(name=\"root_mean_squared_error\", dtype=None)]) \n",
        "\n",
        "#モデルをトレーニング\n",
        "#validationのデータセットがあれば、それを渡すことで、validationに関してのlossやRMSEの計算なども簡単にできる。\n",
        "history = keras_model.fit(train_X, train_Y, epochs=70, validation_data=(valid_X, valid_Y))\n"
      ]
    },
    {
      "cell_type": "markdown",
      "source": [
        "損失関数とRMSEの値をエポックごとにプロットする。ValidationとTraningのデータセットのそれぞれに、その二つの値が計算されている。　エポックはトレーニングのデータセットを何回学習したかを表します。ニューラルネットでは一つのトレーニングのデータセットを何回も学習させます。"
      ],
      "metadata": {
        "id": "nudpvV9FNTI8"
      }
    },
    {
      "cell_type": "code",
      "execution_count": null,
      "metadata": {
        "id": "QeqAypyevTy9",
        "outputId": "d4f2bb26-8b31-4b4c-b863-a6b0fe1b12da",
        "colab": {
          "base_uri": "https://localhost:8080/",
          "height": 501
        }
      },
      "outputs": [
        {
          "output_type": "display_data",
          "data": {
            "text/plain": [
              "<Figure size 720x576 with 1 Axes>"
            ],
            "image/png": "[encoded data removed]"
          },
          "metadata": {
            "needs_background": "light"
          }
        }
      ],
      "source": [
        "import pandas as pd \n",
        "import matplotlib.pyplot as plt\n",
        "pd.DataFrame(history.history).plot(figsize=(10,8))\n",
        "plt.grid(True)\n",
        "plt.gca().set_ylim(0,60)\n",
        "plt.xlabel(\"# of Epocs\")\n",
        "plt.show()\n"
      ]
    },
    {
      "cell_type": "markdown",
      "source": [
        "Test Datasetにモデルを適応して、RMSEを計算"
      ],
      "metadata": {
        "id": "3xW99aZMN49B"
      }
    },
    {
      "cell_type": "code",
      "execution_count": null,
      "metadata": {
        "id": "AA35BTjJvTy9",
        "outputId": "6786a0cb-1f2a-41cb-b2e7-84c021e4ee0a",
        "colab": {
          "base_uri": "https://localhost:8080/"
        }
      },
      "outputs": [
        {
          "output_type": "execute_result",
          "data": {
            "text/plain": [
              "4.645517139909478"
            ]
          },
          "metadata": {},
          "execution_count": 28
        }
      ],
      "source": [
        "mean_squared_error(test_Y,keras_model.predict(test_X)) ** (1/2)"
      ]
    },
    {
      "cell_type": "markdown",
      "metadata": {
        "id": "7hXlz7iBvTy9"
      },
      "source": [
        "## Classificaiton using Keras "
      ]
    },
    {
      "cell_type": "markdown",
      "source": [
        "Dataset\n",
        "\n",
        "手書きの数字を表したイメージが含まれている。イメージは28*28で全７８４ピクセル。\n",
        "\n",
        "Goal \n",
        "\n",
        "イメージが０から９のどの数字なのかを判別する。"
      ],
      "metadata": {
        "id": "7H6eGUDslmQR"
      }
    },
    {
      "cell_type": "code",
      "execution_count": null,
      "metadata": {
        "id": "f-R9_s0IvTy9"
      },
      "outputs": [],
      "source": [
        "#データをダウンロードして、トレーニングとテストに分ける\n",
        "(train_X, train_Y), (test_X, test_Y) = tf.keras.datasets.mnist.load_data(path=\"mnist.npz\")"
      ]
    },
    {
      "cell_type": "code",
      "execution_count": null,
      "metadata": {
        "scrolled": true,
        "id": "caiVoYtgvTy9",
        "outputId": "eae33a9a-48da-4079-a707-1508ef07afb7",
        "colab": {
          "base_uri": "https://localhost:8080/",
          "height": 265
        }
      },
      "outputs": [
        {
          "output_type": "display_data",
          "data": {
            "text/plain": [
              "<Figure size 432x288 with 1 Axes>"
            ],
            "image/png": "[encoded data removed]"
          },
          "metadata": {
            "needs_background": "light"
          }
        }
      ],
      "source": [
        "#イメージを実際に視覚化してみる\n",
        "from matplotlib import pyplot as plt\n",
        "plt.imshow(train_X[0],cmap='Greys')\n",
        "plt.show()"
      ]
    },
    {
      "cell_type": "code",
      "execution_count": null,
      "metadata": {
        "scrolled": true,
        "id": "enlaIOA1vTy9",
        "outputId": "40462c11-e9ee-426f-a536-2bf4bb2e48c7",
        "colab": {
          "base_uri": "https://localhost:8080/"
        }
      },
      "outputs": [
        {
          "output_type": "stream",
          "name": "stdout",
          "text": [
            "Model: \"sequential_3\"\n",
            "_________________________________________________________________\n",
            " Layer (type)                Output Shape              Param #   \n",
            "=================================================================\n",
            " flatten_1 (Flatten)         (None, 784)               0         \n",
            "                                                                 \n",
            " dense_5 (Dense)             (None, 10)                7850      \n",
            "                                                                 \n",
            "=================================================================\n",
            "Total params: 7,850\n",
            "Trainable params: 7,850\n",
            "Non-trainable params: 0\n",
            "_________________________________________________________________\n",
            "Epoch 1/20\n",
            "1407/1407 [==============================] - 5s 3ms/step - loss: 0.8546 - accuracy: 0.8001 - val_loss: 0.5504 - val_accuracy: 0.8627\n",
            "Epoch 2/20\n",
            "1407/1407 [==============================] - 4s 3ms/step - loss: 0.4909 - accuracy: 0.8742 - val_loss: 0.4528 - val_accuracy: 0.8813\n",
            "Epoch 3/20\n",
            "1407/1407 [==============================] - 4s 3ms/step - loss: 0.4282 - accuracy: 0.8864 - val_loss: 0.4127 - val_accuracy: 0.8894\n",
            "Epoch 4/20\n",
            "1407/1407 [==============================] - 4s 3ms/step - loss: 0.3972 - accuracy: 0.8933 - val_loss: 0.3891 - val_accuracy: 0.8926\n",
            "Epoch 5/20\n",
            "1407/1407 [==============================] - 4s 3ms/step - loss: 0.3776 - accuracy: 0.8976 - val_loss: 0.3750 - val_accuracy: 0.8943\n",
            "Epoch 6/20\n",
            "1407/1407 [==============================] - 5s 4ms/step - loss: 0.3640 - accuracy: 0.9007 - val_loss: 0.3626 - val_accuracy: 0.8981\n",
            "Epoch 7/20\n",
            "1407/1407 [==============================] - 4s 3ms/step - loss: 0.3536 - accuracy: 0.9027 - val_loss: 0.3539 - val_accuracy: 0.8999\n",
            "Epoch 8/20\n",
            "1407/1407 [==============================] - 4s 3ms/step - loss: 0.3454 - accuracy: 0.9045 - val_loss: 0.3475 - val_accuracy: 0.9024\n",
            "Epoch 9/20\n",
            "1407/1407 [==============================] - 4s 3ms/step - loss: 0.3387 - accuracy: 0.9064 - val_loss: 0.3420 - val_accuracy: 0.9037\n",
            "Epoch 10/20\n",
            "1407/1407 [==============================] - 4s 3ms/step - loss: 0.3330 - accuracy: 0.9081 - val_loss: 0.3366 - val_accuracy: 0.9055\n",
            "Epoch 11/20\n",
            "1407/1407 [==============================] - 4s 3ms/step - loss: 0.3282 - accuracy: 0.9093 - val_loss: 0.3322 - val_accuracy: 0.9066\n",
            "Epoch 12/20\n",
            "1407/1407 [==============================] - 4s 3ms/step - loss: 0.3238 - accuracy: 0.9099 - val_loss: 0.3297 - val_accuracy: 0.9070\n",
            "Epoch 13/20\n",
            "1407/1407 [==============================] - 4s 3ms/step - loss: 0.3203 - accuracy: 0.9118 - val_loss: 0.3259 - val_accuracy: 0.9088\n",
            "Epoch 14/20\n",
            "1407/1407 [==============================] - 4s 3ms/step - loss: 0.3170 - accuracy: 0.9123 - val_loss: 0.3234 - val_accuracy: 0.9091\n",
            "Epoch 15/20\n",
            "1407/1407 [==============================] - 4s 3ms/step - loss: 0.3140 - accuracy: 0.9132 - val_loss: 0.3207 - val_accuracy: 0.9097\n",
            "Epoch 16/20\n",
            "1407/1407 [==============================] - 4s 3ms/step - loss: 0.3114 - accuracy: 0.9136 - val_loss: 0.3187 - val_accuracy: 0.9105\n",
            "Epoch 17/20\n",
            "1407/1407 [==============================] - 4s 3ms/step - loss: 0.3089 - accuracy: 0.9144 - val_loss: 0.3163 - val_accuracy: 0.9114\n",
            "Epoch 18/20\n",
            "1407/1407 [==============================] - 4s 3ms/step - loss: 0.3067 - accuracy: 0.9150 - val_loss: 0.3151 - val_accuracy: 0.9111\n",
            "Epoch 19/20\n",
            "1407/1407 [==============================] - 4s 3ms/step - loss: 0.3045 - accuracy: 0.9157 - val_loss: 0.3127 - val_accuracy: 0.9118\n",
            "Epoch 20/20\n",
            "1407/1407 [==============================] - 4s 3ms/step - loss: 0.3028 - accuracy: 0.9160 - val_loss: 0.3117 - val_accuracy: 0.9136\n"
          ]
        }
      ],
      "source": [
        "import tensorflow as tf \n",
        "from tensorflow import keras\n",
        "from sklearn.preprocessing import StandardScaler\n",
        "\n",
        "#training と　validationに分ける\n",
        "train_X, valid_X, train_Y, valid_Y = train_test_split(train_X, train_Y)\n",
        "\n",
        "#最適化のアルゴリズムを早くするために、変数をスケーリングします。\n",
        "train_X = train_X / 255.0\n",
        "valid_X = valid_X / 255.0\n",
        "test_X = test_X / 255.0\n",
        "keras_clf = keras.models.Sequential() \n",
        "\n",
        "#input layerを作る。もともとのinputのデータが2-Dなので、1Dにします。\n",
        "keras_clf.add(keras.layers.Flatten(input_shape=[28,28]))\n",
        "\n",
        "#output layer を作る.10個のクラスがあるので、10個のニューロンが必要。\n",
        "keras_clf.add(keras.layers.Dense(10,activation = 'softmax'))\n",
        "keras_clf.summary()\n",
        "keras_clf.compile(loss=\"sparse_categorical_crossentropy\", optimizer=\"sgd\",metrics=[\"accuracy\"]) \n",
        "history = keras_clf.fit(train_X, train_Y, epochs=20, validation_data=(valid_X, valid_Y))\n",
        "\n",
        "\n",
        "\n",
        "\n"
      ]
    },
    {
      "cell_type": "markdown",
      "source": [
        " 損失関数とaccuracyの値をエポックごとにプロットする。ValidationとTraningのデータセットのそれぞれに、その二つの値が計算されている。"
      ],
      "metadata": {
        "id": "OFAHqKmTnFlp"
      }
    },
    {
      "cell_type": "code",
      "execution_count": null,
      "metadata": {
        "id": "bPTb-xO0vTy-",
        "outputId": "09c4ee94-1f07-4cc6-9515-065ec62a0d6e",
        "colab": {
          "base_uri": "https://localhost:8080/",
          "height": 334
        }
      },
      "outputs": [
        {
          "output_type": "display_data",
          "data": {
            "text/plain": [
              "<Figure size 576x360 with 1 Axes>"
            ],
            "image/png": "[encoded data removed]"
          },
          "metadata": {
            "needs_background": "light"
          }
        }
      ],
      "source": [
        "pd.DataFrame(history.history).plot(figsize=(8,5))\n",
        "plt.grid(True)\n",
        "plt.gca()\n",
        "plt.xlabel(\"# of Epocs\")\n",
        "plt.show()"
      ]
    },
    {
      "cell_type": "markdown",
      "metadata": {
        "id": "7AMbWYBavTy-"
      },
      "source": [
        "### Test データを使って予測してみる"
      ]
    },
    {
      "cell_type": "code",
      "execution_count": null,
      "metadata": {
        "id": "sRT4lmozvTy-",
        "outputId": "cc0af9c7-4b0a-4853-fac2-6febea0c2243",
        "colab": {
          "base_uri": "https://localhost:8080/"
        }
      },
      "outputs": [
        {
          "output_type": "stream",
          "name": "stdout",
          "text": [
            "Accuracy: 0.918\n"
          ]
        }
      ],
      "source": [
        "#accuracyを計算\n",
        "from sklearn.metrics import accuracy_score\n",
        "print(\"Accuracy: \" +str(accuracy_score(test_Y,keras_clf.predict(test_X).argmax(axis=-1))))"
      ]
    },
    {
      "cell_type": "markdown",
      "source": [
        "ニューラルネットの学習の視覚化"
      ],
      "metadata": {
        "id": "tQD_UdQ02IB-"
      }
    },
    {
      "cell_type": "markdown",
      "source": [
        "この数字判別の問題だと、アウトプットノードが１０個あります。それぞれのノードが７８４個のインプットノードとエッジで結ばれていて、そのエッジに重みがつけられています。つまり、一つのクラスに７８４個の重みがあります。\n",
        "\n",
        "それでは、ここでいう重みの最適化は何を指すのでしょうか？簡単にいうと、あるラベルがついたインプットが来た時、そのラベルを判別するアウトプットノードが他のノードに比べて大きな値を出力できるような重みを計算するのが最適化にあたります。\n",
        "\n",
        "この数字判別の例だと、仮に１を表すインプットが与えられた時、１を判別するアウトプットノードが一番大きい値を出力するような重みを計算しなければなりません。もう少し詳しくいうと、１という数字のイメージに相関があるピクセルに高い重みを与えればいいのです。そうすれば、インプットと重みのドット積も大きな値を出します。\n",
        "\n",
        "従って、重みを視覚化すると数字がぼんやりと見えます。下の図は数字の３を判別するアウトプットノードと全てのインプットのエッジの間の重みを視覚化したものです。 赤いとこほど、大きな重みを持っています。\n",
        "\n",
        "ニューラルネットワークでの学習は重みを最適化することです。あるインプットに紐づいている重みが少ないということは、それほど重要ではないということです。下の図は、そういった意味ではニューラルネットワークが重要だと学習したピクセルの位置を示していると言えます。\n",
        "\n"
      ],
      "metadata": {
        "id": "Q_XyJliK3ss1"
      }
    },
    {
      "cell_type": "code",
      "execution_count": null,
      "metadata": {
        "id": "RvhoDv9dvTy-",
        "outputId": "a3a3ec88-0a38-4b8c-9162-a652cf74edb6",
        "colab": {
          "base_uri": "https://localhost:8080/",
          "height": 284
        }
      },
      "outputs": [
        {
          "output_type": "execute_result",
          "data": {
            "text/plain": [
              "<matplotlib.image.AxesImage at 0x7fcac1d0a110>"
            ]
          },
          "metadata": {},
          "execution_count": 34
        },
        {
          "output_type": "display_data",
          "data": {
            "text/plain": [
              "<Figure size 432x288 with 1 Axes>"
            ],
            "image/png": "[encoded data removed]"
          },
          "metadata": {
            "needs_background": "light"
          }
        }
      ],
      "source": [
        "#３のアウトプットノードに関連する重みを全部について、２８＊２８の2-Dに変換\n",
        "plt.imshow(np.reshape(keras_clf.get_weights()[0][:,3],(28,28)),cmap=\"seismic\")"
      ]
    }
  ],
  "metadata": {
    "kernelspec": {
      "display_name": "Python 3",
      "language": "python",
      "name": "python3"
    },
    "language_info": {
      "codemirror_mode": {
        "name": "ipython",
        "version": 3
      },
      "file_extension": ".py",
      "mimetype": "text/x-python",
      "name": "python",
      "nbconvert_exporter": "python",
      "pygments_lexer": "ipython3",
      "version": "3.8.5"
    },
    "colab": {
      "name": "Deep_learning_material_tempate.ipynb のコピー",
      "provenance": [],
      "collapsed_sections": [],
      "include_colab_link": true
    },
    "accelerator": "GPU",
    "gpuClass": "standard"
  },
  "nbformat": 4,
  "nbformat_minor": 0
}